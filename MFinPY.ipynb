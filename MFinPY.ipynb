{
 "cells": [
  {
   "cell_type": "markdown",
   "metadata": {},
   "source": [
    "## Libraries"
   ]
  },
  {
   "cell_type": "code",
   "execution_count": 148,
   "metadata": {},
   "outputs": [],
   "source": [
    "import matplotlib.pyplot as plt\n",
    "import pandas as pd \n",
    "import numpy as np\n",
    "import copy\n",
    "import scipy.io\n",
    "from scipy.optimize import minimize\n",
    "from scipy.optimize import differential_evolution\n",
    "import pdb\n",
    "import seaborn as sns\n",
    "import random\n"
   ]
  },
  {
   "cell_type": "markdown",
   "metadata": {},
   "source": [
    "## Parameter Initilization Function"
   ]
  },
  {
   "cell_type": "code",
   "execution_count": 149,
   "metadata": {},
   "outputs": [],
   "source": [
    "def initilizeFeat(nu,ni,nf,seed=42):\n",
    "    np.random.seed(seed)\n",
    "    Theta=np.random.rand(nu,nf)*0.05\n",
    "    X=np.random.rand(ni,nf)*0.05\n",
    "    return X, Theta"
   ]
  },
  {
   "cell_type": "markdown",
   "metadata": {},
   "source": [
    "## Helper Functions"
   ]
  },
  {
   "cell_type": "code",
   "execution_count": 150,
   "metadata": {},
   "outputs": [],
   "source": [
    "def flatterRev(x,nu,ni,nf):\n",
    "    X=x[0:ni*nf].reshape((ni,nf),order='F')\n",
    "    Theta=x[ni*nf:].reshape((nu,nf),order='F')\n",
    "    return X,Theta\n",
    "\n",
    "def flatter(X, Theta):\n",
    "    x=np.concatenate([X.reshape(X.shape[0]*X.shape[1],order='F'),Theta.reshape(Theta.shape[0]*Theta.shape[1],order='F')])\n",
    "    return(x)\n",
    "    "
   ]
  },
  {
   "cell_type": "markdown",
   "metadata": {},
   "source": [
    "# Cost Function"
   ]
  },
  {
   "cell_type": "code",
   "execution_count": 151,
   "metadata": {},
   "outputs": [],
   "source": [
    "def costFunc(X,Theta,R,M,la=0):\n",
    "    R=np.ma.array(R, mask=M)\n",
    "    #pdb.set_trace()\n",
    "    e=0.5*np.sum(np.power((np.matmul(Theta,X.T)-R),2))+la*0.5*np.sum(np.power(Theta, 2))+la*0.5*np.sum(np.power(X, 2))\n",
    "    return(e/np.sum(M==False))\n",
    "\n",
    "\n",
    "def CF(x,R,M,nu,ni,nf,la=0):\n",
    "    X, Theta=flatterRev(x,nu,ni,nf)\n",
    "    error=costFunc(X,Theta,R,M,la=la)\n",
    "    return error"
   ]
  },
  {
   "cell_type": "markdown",
   "metadata": {},
   "source": [
    "## Gradient Function"
   ]
  },
  {
   "cell_type": "code",
   "execution_count": 152,
   "metadata": {},
   "outputs": [],
   "source": [
    "def gradFunc(x,R,M,nu,ni,nf,la=0 ):\n",
    "    X, Theta=flatterRev(x,nu,ni,nf)\n",
    "    R=np.ma.array(R, mask=M)\n",
    "    pdb.set_trace()\n",
    "    \n",
    "    e=np.matmul(Theta,X.T)-R\n",
    "    TG=np.matmul(e,X)+la*Theta\n",
    "    XG=np.matmul(e.T,Theta)+la*X\n",
    "    grads=np.concatenate([XG.reshape(XG.shape[0]*XG.shape[1],order='F'),TG.reshape(TG.shape[0]*TG.shape[1],order='F')])\n",
    "    return grads/np.sum(M==False)"
   ]
  },
  {
   "cell_type": "markdown",
   "metadata": {},
   "source": [
    "## Training Function"
   ]
  },
  {
   "cell_type": "code",
   "execution_count": 153,
   "metadata": {},
   "outputs": [],
   "source": [
    "def trainMF(R,M,nf,la=0,seed=42):\n",
    "    nu=R.shape[0]\n",
    "    ni=R.shape[1]\n",
    "    R=np.ma.array(R, mask=M)\n",
    "    X, Theta=initilizeFeat(nu,ni,nf,seed=seed)\n",
    "    x=flatter(X, Theta)\n",
    "    # BFGS crashes\n",
    "    #res = minimize(CF, x, args=(R,M,nu,ni,nf,la), method='BFGS',jac=gradFunc,options={'disp': True, 'gtol':1e-6}) \n",
    "    \n",
    "    #res = minimize(CF, x, args=(R,M,nu,ni,nf,la), method='Newton-CG',jac=gradFunc,options={'disp': True, 'xtol':1e-6})\n",
    "    #MSEINIT=CF(x,R,M,nu,ni,nf,la)/np.sum(M==False)\n",
    "    #print('INITMSE:'+str(MSEINIT))\n",
    "    res = minimize(CF, x, args=(R,M,nu,ni,nf,la), method='CG',jac=gradFunc,options={ 'disp': True,'gtol':1e-5})\n",
    "    #MSE=CF(res.x,R,M,nu,ni,nf,la)/np.sum(M==False)\n",
    "    MSE=CF(res.x,R,M,nu,ni,nf,la)\n",
    "    return(MSE, res,nu,ni,nf)\n",
    "\n"
   ]
  },
  {
   "cell_type": "markdown",
   "metadata": {},
   "source": [
    "## Predicting Function"
   ]
  },
  {
   "cell_type": "code",
   "execution_count": 154,
   "metadata": {},
   "outputs": [],
   "source": [
    "def Predict(res,nu,ni,nf,la=0):\n",
    "    X, Theta=flatterRev(res.x,nu,ni,nf)\n",
    "    predict=np.matmul(Theta,X.T)\n",
    "    return(predict)\n",
    "    "
   ]
  },
  {
   "cell_type": "markdown",
   "metadata": {},
   "source": [
    "# Spliting Training and Test Datasets"
   ]
  },
  {
   "cell_type": "code",
   "execution_count": 155,
   "metadata": {},
   "outputs": [],
   "source": [
    "def splitMatrix(R,M,testPer):\n",
    "    trainPer=1-testPer\n",
    "    num_user=R.shape[1]\n",
    "    num_movie=R.shape[0]\n",
    "    overallRating=np.sum(M)\n",
    "    testsize=testPer*overallRating\n",
    "    testsize=testsize.astype(int)\n",
    "\n",
    "\n",
    "    #split tarining and test dataset\n",
    "    random.seed( 9273482 )\n",
    "    ind1, ind2=np.where(M==1)\n",
    "    testSamples=random.sample(range(ind1.shape[0]), testsize)\n",
    "    testInd1=ind1[testSamples]\n",
    "    testInd2=ind2[testSamples]\n",
    "\n",
    "    trainR=copy.copy(R)\n",
    "    trainM=copy.copy(M)\n",
    "    trainR[testInd1,testInd2]=0\n",
    "    trainM[testInd1,testInd2]=0\n",
    "\n",
    "\n",
    "    M= (trainM==0)\n",
    "    trainR=np.ma.array(trainR, mask=M)\n",
    "    mu=np.average(trainR,axis=1)\n",
    "\n",
    "    testR=copy.copy(R)\n",
    "    testM=np.zeros(shape = (testR.shape[0],testR.shape[1]))\n",
    "    testM[testInd1,testInd2]=1\n",
    "    tM=(testM==0)\n",
    "    testR=testR*testM\n",
    "    testR=np.ma.array(testR, mask=tM)\n",
    "    return trainR, M, testR, tM, mu"
   ]
  },
  {
   "cell_type": "markdown",
   "metadata": {},
   "source": [
    "## Test Error Function"
   ]
  },
  {
   "cell_type": "code",
   "execution_count": 156,
   "metadata": {},
   "outputs": [],
   "source": [
    "def testMF(tR,tM,predict):\n",
    "    tR=np.ma.array(tR, mask=tM)\n",
    "    e=np.abs(tR-predict)\n",
    "    #e[e<1]=0\n",
    "    #e[e>5]=5\n",
    "    #pdb.set_trace()\n",
    "    testMSE=np.sum(np.power(e,2))/np.sum(tM==False)\n",
    "    \n",
    "    #e[e<1]=1\n",
    "    #e[e>1]=0\n",
    "    #e=np.ma.array(e, mask=tM)\n",
    "    #import pdb; pdb.set_trace()\n",
    "    #ErrPer=np.sum(e)/np.sum(tM==False)\n",
    "    return(testMSE)\n",
    "\n",
    "\n",
    "\n",
    "def accuracyMF(tR,tM,predict):\n",
    "    tR=np.ma.array(tR, mask=tM)\n",
    "    diff=tR-predict\n",
    "    e=np.absolute(diff)\n",
    "    diff=np.ma.array(diff, mask=tM)\n",
    "    #e[e<1]=0\n",
    "    #e[e>5]=5\n",
    "    #pdb.set_trace()\n",
    "    #testMSE=np.sum(np.power(e,2))/np.sum(tM==False)\n",
    "    #pdb.set_trace()\n",
    "    \n",
    "    e[e>=1]=0\n",
    "    e[e!=0]=1\n",
    "    #e[e!=0]=1\n",
    "    e=np.ma.array(e, mask=tM)\n",
    "    #import pdb; pdb.set_trace()\n",
    "    accu=np.sum(e)/np.sum(tM==False)\n",
    "    return(accu)\n",
    "\n",
    "\n",
    "def plotDensity(tR,tM,FinalPredict):\n",
    "    tR=np.ma.array(tR, mask=tM)\n",
    "    #initPredict=np.ma.array(initPredict, mask=tM)\n",
    "    FinalPredict=np.ma.array(FinalPredict, mask=tM)\n",
    "    #diff1=tR-initPredict\n",
    "    #diff1=np.ma.array(diff1, mask=tM)\n",
    "    \n",
    "    #diff2=tR-FinalPredict\n",
    "    #diff2=np.ma.array(diff2, mask=tM)\n",
    "    plt.style.use(['dark_background'])\n",
    "    sns.kdeplot(tR.flatten(), shade=True, bw=.5, color=\"blue\")\n",
    "    #sns.kdeplot(initPredict.flatten(), shade=True, bw=.5, color=\"pink\")\n",
    "    sns.kdeplot(FinalPredict.flatten(), shade=True, bw=.5, color=\"olive\")\n",
    "    plt.show()\n",
    "    return"
   ]
  },
  {
   "cell_type": "markdown",
   "metadata": {},
   "source": [
    "## lOOKING FOR THE BEST PARAMETER Setting"
   ]
  },
  {
   "cell_type": "code",
   "execution_count": 157,
   "metadata": {},
   "outputs": [],
   "source": [
    "mat = scipy.io.loadmat('C:/Users/bagheri/Desktop/recommenderSystem/ex8_movies.mat')\n",
    "R=mat['Y']\n",
    "M=mat['R']\n",
    "\n",
    "\n",
    "trainR, M, testR, tM, mu=splitMatrix(R,M,0.1)\n",
    "#print(trainM)\n",
    "#NF=[1,2,10,20,30,40,50,60,70,80,90,100, 110, 150, 200]\n",
    "NF=[10,20,30,50,100,200]\n",
    "NF=[]\n",
    "myseed=5623\n",
    "for nf in NF:\n",
    "    trainR=trainR-mu[:,None]\n",
    "    trainingError, res,nu,ni,nf=trainMF(trainR,M,nf=nf,la=1,seed=myseed)\n",
    "    mypredict=Predict(res,nu,ni,nf,la=0)\n",
    "    zeropredict=np.zeros(shape = (mypredict.shape[0],mypredict.shape[1]))\n",
    "    #print(mypredict)\n",
    "    testR=testR-mu[:,None]\n",
    "    testError=testMF(testR,tM,mypredict)\n",
    "    accuracy=accuracyMF(testR,tM,mypredict)\n",
    "    accuracyTrain=accuracyMF(trainR,M,mypredict)\n",
    "    accuracyz=accuracyMF(testR,tM,zeropredict)\n",
    "    accuracyTrainz=accuracyMF(trainR,M,zeropredict)\n",
    "    print('[nf='+str(nf)+']'+'Training Error:'+str(trainingError))\n",
    "    print('[nf='+str(nf)+']'+'Test Error:'+str(testError))\n",
    "    print('[nf='+str(nf)+']'+'Accuracy After Optimization:test:'+str(accuracy))\n",
    "    print('[nf='+str(nf)+']'+'Accuracy If we always guess 0:test:'+str(accuracyz))\n",
    "    print('[nf='+str(nf)+']'+'Accuracy After Optimization:train:'+str(accuracyTrain))\n",
    "    print('[nf='+str(nf)+']'+'Accuracy If we always guess 0:train:'+str(accuracyTrainz))\n",
    "    plotDensity(testR,tM,mypredict)\n"
   ]
  },
  {
   "cell_type": "markdown",
   "metadata": {},
   "source": [
    "# Building the Recommender System Model"
   ]
  },
  {
   "cell_type": "code",
   "execution_count": 158,
   "metadata": {},
   "outputs": [],
   "source": [
    "def buildRSModel(R,M,mu=None, nf=10,la=0,seed=42, movie_names=None):\n",
    "    trainR=copy.copy(R)\n",
    "    trainM=copy.copy(M)\n",
    "\n",
    "    trainR=np.ma.array(trainR, mask=trainM)\n",
    "    if mu is None:\n",
    "        mu=np.average(trainR,axis=1)\n",
    "    trainR=trainR-mu[:,None]\n",
    "    trainingError, res,nu,ni,nf=trainMF(trainR,M,nf=nf,la=la,seed=seed)\n",
    "    model={'trainingError': trainingError, 'res':res,'nu':nu,'ni':ni,'nf':nf, 'la':la, 'movie_names':movie_names, 'mu':mu,\n",
    "          'R':R,'M':M}\n",
    "    return model\n",
    "\n",
    "#Example\n",
    "#mat = scipy.io.loadmat('C:/Users/bagheri/Desktop/recommenderSystem/ex8_movies.mat')\n",
    "#R=mat['Y']\n",
    "#M=mat['R']\n",
    "#trainR=copy.copy(R)\n",
    "#trainM= (M==0)\n",
    "#movie_names = pd.read_csv('C:/Users/bagheri/Desktop/recommenderSystem/movie_ids.txt', header = None, delimiter=';')[1]\n",
    "\n",
    "#mymodel=buildRSMolde(R=trainR,M=trainM,mu=None, nf=100,la=0,seed=42, movie_names=movie_names)\n"
   ]
  },
  {
   "cell_type": "markdown",
   "metadata": {},
   "source": [
    "# Predicting for User X"
   ]
  },
  {
   "cell_type": "code",
   "execution_count": 159,
   "metadata": {},
   "outputs": [],
   "source": [
    "def predictForUserX(user_Id,model,movie_Id=None):\n",
    "    trainingError=model['trainingError']\n",
    "    res=model['res']\n",
    "    nu=model['nu']\n",
    "    ni=model['ni']\n",
    "    nf=model['nf']\n",
    "    la=model['la']\n",
    "    movie_names=model['movie_names']\n",
    "    mu=model['mu']\n",
    "    R=model['R']\n",
    "    M=model['M']\n",
    "    mypredict=Predict(res,nu,ni,nf,la=0)\n",
    "    mydata=pd.DataFrame()\n",
    "    Pred=mypredict[:,user_Id]+mu[user_Id]\n",
    "    mydata['names']=movie_names\n",
    "    mydata['predictedRating']=Pred\n",
    "    mydata['originalrating']=R[:,user_Id]\n",
    "    mydata=mydata.sort_values(by=['predictedRating'], ascending=False)\n",
    "    output=mydata[mydata['originalrating'] == 0]\n",
    "    #print(output)\n",
    "    return(output)\n",
    "\n",
    "#Example\n",
    "#predictForUserX(934,mymodel,movie_Id=None).head()\n"
   ]
  },
  {
   "cell_type": "markdown",
   "metadata": {},
   "source": [
    "# Enter your own rating"
   ]
  },
  {
   "cell_type": "code",
   "execution_count": 160,
   "metadata": {},
   "outputs": [],
   "source": [
    "def weRecommend(myratings,modelparam=None):\n",
    "    movie_names = pd.read_csv('C:/Users/bagheri/Desktop/recommenderSystem/movie_ids.txt', header = None, delimiter=';')[1]\n",
    "    mat = scipy.io.loadmat('C:/Users/bagheri/Desktop/recommenderSystem/ex8_movies.mat')\n",
    "    R=mat['Y']\n",
    "    M=mat['R']\n",
    "    trainR=copy.copy(R)\n",
    "    trainM= (M==0)\n",
    "    num_user=R.shape[1]\n",
    "    num_movie=R.shape[0]\n",
    "    \n",
    "    print(R.shape)\n",
    "    #mymu=np.average(myratings['rating'])\n",
    "    myratings=myratings.sort_values(by=['names'], ascending=False)\n",
    "    #movie_names=movie_names.sort_values(by=['names'], ascending=False)\n",
    "    movies=copy.copy(movie_names)\n",
    "    movies=movies.sort_values( ascending=False)\n",
    "    indices=movies[movies.isin( myratings['names'])].index\n",
    "    #pdb.set_trace()\n",
    "    newuserratingR=np.zeros(num_movie)\n",
    "    newuserratingM=np.zeros(num_movie)\n",
    "    newuserratingR[indices]=myratings['rating']\n",
    "    #newuserratingR[indices]=newuserratingR[indices]-\n",
    "    newuserratingM[indices]=1\n",
    "    \n",
    "    newuserratingM= (newuserratingM==0)\n",
    "    trainR=np.concatenate((newuserratingR[:,None],trainR),axis=1)\n",
    "    trainM=np.concatenate((newuserratingM[:,None],trainM),axis=1)\n",
    "    \n",
    "    \n",
    "    if modelparam is None:\n",
    "        mymodel=buildRSModel(R=trainR,M=trainM,mu=None, nf=100,la=0.1, movie_names=movie_names)\n",
    "    else:\n",
    "        nf=modelparam['nf']\n",
    "        la=modelparam['la'] \n",
    "        mymodel=buildRSModel(R=trainR,M=trainM,mu=None, nf=nf,la=la, movie_names=movie_names)\n",
    "        \n",
    "    bests=predictForUserX(0,mymodel,movie_Id=None).head(15)\n",
    "    worsts=predictForUserX(0,mymodel,movie_Id=None).tail(15)\n",
    "    bests=bests.iloc[:, :-1]\n",
    "    worsts=worsts.iloc[:, :-1]\n",
    "    output={'bests':bests,'worsts':worsts}\n",
    "    return output\n",
    "\n",
    "\n"
   ]
  },
  {
   "cell_type": "code",
   "execution_count": null,
   "metadata": {},
   "outputs": [],
   "source": []
  }
 ],
 "metadata": {
  "kernelspec": {
   "display_name": "Python 3",
   "language": "python",
   "name": "python3"
  },
  "language_info": {
   "codemirror_mode": {
    "name": "ipython",
    "version": 3
   },
   "file_extension": ".py",
   "mimetype": "text/x-python",
   "name": "python",
   "nbconvert_exporter": "python",
   "pygments_lexer": "ipython3",
   "version": "3.6.4"
  }
 },
 "nbformat": 4,
 "nbformat_minor": 2
}
