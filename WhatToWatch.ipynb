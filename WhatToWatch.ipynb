{
  "nbformat": 4,
  "nbformat_minor": 0,
  "metadata": {
    "colab": {
      "name": "WhatToWatch.ipynb",
      "version": "0.3.2",
      "provenance": [],
      "collapsed_sections": [],
      "include_colab_link": true
    },
    "language_info": {
      "codemirror_mode": {
        "name": "ipython",
        "version": 3
      },
      "file_extension": ".py",
      "mimetype": "text/x-python",
      "name": "python",
      "nbconvert_exporter": "python",
      "pygments_lexer": "ipython3",
      "version": "3.6.4"
    },
    "kernelspec": {
      "display_name": "Python 3",
      "language": "python",
      "name": "python3"
    }
  },
  "cells": [
    {
      "cell_type": "markdown",
      "metadata": {
        "id": "view-in-github",
        "colab_type": "text"
      },
      "source": [
        "<a href=\"https://colab.research.google.com/github/saminehbagheri/Recommender-System/blob/master/WhatToWatch.ipynb\" target=\"_parent\"><img src=\"https://colab.research.google.com/assets/colab-badge.svg\" alt=\"Open In Colab\"/></a>"
      ]
    },
    {
      "cell_type": "markdown",
      "metadata": {
        "id": "jTYadb_z1zue",
        "colab_type": "text"
      },
      "source": [
        "# What To Watch Next Weekend?\n",
        "Do you want a list of movies  for the next coming holiday? We have programmed a simple recommender system in Python based on *Matrix Factorization* collaborative filtering  which can recommend  you a list of movies that you might really like to watch. Give it a try.  Find the movies that you have watched in this [list](https://github.com/saminehbagheri/Recommender-System/blob/master/movie_ids.txt) and rate them as I have done in the the cell bellow in the myratings dataframe. Ratings should be numbers from 5 (best) to 1 (worst). Our list contains 1682 movies produced from 1930 till 1998 (pretty old but I might say there are many good movies among them). Once you are done with the ratings just pass them in form of a dataframe to the $\\color{blue}{\\text{weRecommend()}}$ function and wait about a minute or two. This function will return to you with two lists: Best and worst movies for you to watch.\n",
        "\n"
      ]
    },
    {
      "cell_type": "code",
      "metadata": {
        "id": "rE58wR331zuf",
        "colab_type": "code",
        "outputId": "a5277813-3f71-4ccd-a9db-9ee7258cb8a0",
        "colab": {
          "base_uri": "https://localhost:8080/",
          "height": 158
        }
      },
      "source": [
        "! git clone https://github.com/saminehbagheri/Recommender-System.git\n",
        "%cd Recommender-System  \n",
        "%run MFinPY.ipynb"
      ],
      "execution_count": 0,
      "outputs": [
        {
          "output_type": "stream",
          "text": [
            "Cloning into 'Recommender-System'...\n",
            "remote: Enumerating objects: 63, done.\u001b[K\n",
            "remote: Counting objects: 100% (63/63), done.\u001b[K\n",
            "remote: Compressing objects: 100% (60/60), done.\u001b[K\n",
            "remote: Total 63 (delta 32), reused 0 (delta 0), pack-reused 0\u001b[K\n",
            "Unpacking objects: 100% (63/63), done.\n",
            "/content/Recommender-System/Recommender-System\n",
            "The MF in Python is successfully loaded\n"
          ],
          "name": "stdout"
        }
      ]
    },
    {
      "cell_type": "code",
      "metadata": {
        "id": "O_E5FoFZ1zui",
        "colab_type": "code",
        "outputId": "518f2db1-3ab1-4f70-af09-55692b3acf21",
        "colab": {
          "base_uri": "https://localhost:8080/",
          "height": 862
        }
      },
      "source": [
        "myratings=pd.DataFrame()\n",
        "myratings['names']=['Star Trek: First Contact(1996)',\n",
        "                    'Star Trek VI: The Undiscovered Country(1991)',\n",
        "                    'Star Trek: The Wrath of Khan(1982)',\n",
        "                    \"Truth About Cats & Dogs  The(1996)\",\n",
        "                    'Independence Day(ID4)(1996)',\n",
        "                    'Remains of the Day  The(1993)']\n",
        "myratings['rating']=[5,5,5,1,1,1]\n",
        "print(myratings)\n",
        "weRecommend(myratings)"
      ],
      "execution_count": 0,
      "outputs": [
        {
          "output_type": "stream",
          "text": [
            "                                          names  rating\n",
            "0                Star Trek: First Contact(1996)       5\n",
            "1  Star Trek VI: The Undiscovered Country(1991)       5\n",
            "2            Star Trek: The Wrath of Khan(1982)       5\n",
            "3            Truth About Cats & Dogs  The(1996)       1\n",
            "4                   Independence Day(ID4)(1996)       1\n",
            "5                 Remains of the Day  The(1993)       1\n",
            "Reading the data\n",
            "Training the Recommender System...\n",
            "Warning: Desired error not necessarily achieved due to precision loss.\n",
            "         Current function value: 0.164921\n",
            "         Iterations: 16\n",
            "         Function evaluations: 273\n",
            "         Gradient evaluations: 262\n",
            "Training is successfully finished\n",
            "Predicting you're ratings:\n"
          ],
          "name": "stdout"
        },
        {
          "output_type": "execute_result",
          "data": {
            "text/plain": [
              "{'bests':                                          names  predictedRating\n",
              " 228  Star Trek III: The Search for Spock(1984)         4.273269\n",
              " 171             Empire Strikes Back  The(1980)         4.256711\n",
              " 229        Star Trek IV: The Voyage Home(1986)         4.256007\n",
              " 300                             In & Out(1997)         4.163947\n",
              " 12                      Mighty Aphrodite(1995)         4.119057\n",
              " 418                         Mary Poppins(1964)         4.111165\n",
              " 411                 Very Brady Sequel  A(1996)         4.106566\n",
              " 678                  Conan the Barbarian(1981)         4.099648\n",
              " 918           City of Lost Children  The(1995)         4.098138\n",
              " 448        Star Trek: The Motion Picture(1979)         4.091331\n",
              " 78                         Fugitive  The(1993)         4.090053\n",
              " 194                      Terminator  The(1984)         4.087046\n",
              " 244                      Devils Own  The(1997)         4.081391\n",
              " 230                       Batman Returns(1992)         4.078759\n",
              " 124                           Phenomenon(1996)         4.056944,\n",
              " 'worsts':                                                  names  predictedRating\n",
              " 434           Butch Cassidy and the Sundance Kid(1969)         3.703051\n",
              " 381  Adventures of Priscilla  Queen of the Desert  ...         3.696499\n",
              " 736                                       Sirens(1994)         3.686803\n",
              " 160                                      Top Gun(1986)         3.682906\n",
              " 691                      American President  The(1995)         3.676379\n",
              " 925                               Down Periscope(1996)         3.675829\n",
              " 173                      Raiders of the Lost Ark(1981)         3.673418\n",
              " 256                                 Men in Black(1997)         3.658370\n",
              " 471                                  Dragonheart(1996)         3.654318\n",
              " 264                    Hunt for Red October  The(1990)         3.634609\n",
              " 630                             Crying Game  The(1992)         3.626236\n",
              " 927                                   Craft  The(1996)         3.578111\n",
              " 195                           Dead Poets Society(1989)         3.568584\n",
              " 132                           Gone with the Wind(1939)         3.542608\n",
              " 117                                      Twister(1996)         3.541201}"
            ]
          },
          "metadata": {
            "tags": []
          },
          "execution_count": 5
        }
      ]
    },
    {
      "cell_type": "markdown",
      "metadata": {
        "id": "vnxThDFX1zum",
        "colab_type": "text"
      },
      "source": [
        "The results of my rating looks very interesting to me. As you can see I have rated three of the Star Trek movies with 5 and three documentary or drama movies with 1 (These ratings are only done for illustrative purposes and do not reflect my interests at all). The recommender system suggests me watching the other Star Trek movies which seems to be a reasonable choice for a Star Trek fan. Please note that this is only achieved by Matrix Factorization and our system does not have any prior knowldge about the genre of the  movies or their names. You can find a detailed article about this algorithm and a step-by-step implementaion of it in this [Notebook](https://colab.research.google.com/drive/1Q68oZBb35VcqYlLiVPO976d6kCvEO1Xt#scrollTo=CRTpRrzoCBtT). You can also have access to the implementation (excluding the detailed explanation) [here](https://colab.research.google.com/drive/1e73syEpXpClmlLY7N2XmSwhz_4k06Pzg). But before getting too detailed let us summarize some of the important characteristics of our recommender system."
      ]
    },
    {
      "cell_type": "markdown",
      "metadata": {
        "id": "g5UsImHyOF4S",
        "colab_type": "text"
      },
      "source": [
        "**Some General Characteristics of this Recommender System**\n",
        "\n",
        "\n",
        "\n",
        "*   The only information that our recommender system uses is the ratings 943 users give for some of 1682 movies. So the rating matrix has $1682 \\cdot 943 = 1586126$ cells but only $0.38\\%$  of the cells are filled with ratings. \n",
        "*   Please note that the more ratings you give in, the likelier system comes back to you with a reasonable suggestion\n",
        "* Again I would like to emphasize that  \"our system does not have any prior knowledge about the genre of the movies or their names.\" In the  [list](https://github.com/saminehbagheri/Recommender-System/blob/master/movie_ids.txt) I provided to you, the movie name and year (e.g.  <font color=red>'Toy Story (1995)'</font>) are only given to you for recognizing the movie, our system just gets the movie number <font color=red>1</font>.\" \n",
        "* What is the main idea of Matrix Factorization? The idea is to factorize the rating matrix into two other matrices, the so-called user feature matrix and item feature matrix : $\\mathbf{X}\\cdot \\mathbf{\\Theta} = \\mathbf{R}$\n",
        "* How can we  find $\\mathbf{X}$ and  $\\mathbf{\\Theta}$? The idea is to find the feature matrices in a way that the sum of the errors on all the given ratings becomes as small as possible. In order to read more about this we suggest you reading this [notebook](https://colab.research.google.com/drive/1Q68oZBb35VcqYlLiVPO976d6kCvEO1Xt#scrollTo=mXsqM6P45kG0).\n",
        "\n"
      ]
    },
    {
      "cell_type": "markdown",
      "metadata": {
        "id": "RXLEmJVf1zun",
        "colab_type": "text"
      },
      "source": [
        "# $\\color{red}{\\text{Enter Your Own Rating Below}}$"
      ]
    },
    {
      "cell_type": "code",
      "metadata": {
        "id": "0bTJ555n1zun",
        "colab_type": "code",
        "colab": {}
      },
      "source": [
        "myratings=pd.DataFrame()\n",
        "myratings['names']=[]\n",
        "myratings['rating']=[]\n",
        "print(myratings)\n",
        "weRecommend(myratings)"
      ],
      "execution_count": 0,
      "outputs": []
    }
  ]
}