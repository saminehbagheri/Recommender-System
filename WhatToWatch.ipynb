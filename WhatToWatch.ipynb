{
  "nbformat": 4,
  "nbformat_minor": 0,
  "metadata": {
    "colab": {
      "name": "WhatToWatch.ipynb",
      "version": "0.3.2",
      "provenance": [],
      "collapsed_sections": [],
      "include_colab_link": true
    },
    "language_info": {
      "codemirror_mode": {
        "name": "ipython",
        "version": 3
      },
      "file_extension": ".py",
      "mimetype": "text/x-python",
      "name": "python",
      "nbconvert_exporter": "python",
      "pygments_lexer": "ipython3",
      "version": "3.6.4"
    },
    "kernelspec": {
      "display_name": "Python 3",
      "language": "python",
      "name": "python3"
    }
  },
  "cells": [
    {
      "cell_type": "markdown",
      "metadata": {
        "id": "view-in-github",
        "colab_type": "text"
      },
      "source": [
        "<a href=\"https://colab.research.google.com/github/saminehbagheri/Recommender-System/blob/master/WhatToWatch.ipynb\" target=\"_parent\"><img src=\"https://colab.research.google.com/assets/colab-badge.svg\" alt=\"Open In Colab\"/></a>"
      ]
    },
    {
      "cell_type": "markdown",
      "metadata": {
        "id": "jTYadb_z1zue",
        "colab_type": "text"
      },
      "source": [
        "# What To Watch Next Weekend?\n",
        "Do you want a list of movies  for the next coming holiday? We have programmed a simple recommender system in Python based on *Matrix Factorization* collaborative filtering  which can recommend you a list of movies that you might really like to watch. Give it a try.  Find the movies that you have watched in this [list](https://github.com/saminehbagheri/Recommender-System/blob/master/movie_ids.txt) and rate them as I have done in the the cell bellow in the myratings dataframe. Our list contains 1682 movies produced in 1930 till 1998 (pretty old but I might say there are many good movies among them). Once you are done with ratings just pass them in form of a dataframe in the $\\color{blue}{\\text{weRecommend()}}$ function and wait about a minute or two. This function will return you two lists. Best and worst movies for you to watch."
      ]
    },
    {
      "cell_type": "code",
      "metadata": {
        "id": "rE58wR331zuf",
        "colab_type": "code",
        "outputId": "891df21f-df19-4ee4-e39d-10780433f6a8",
        "colab": {
          "base_uri": "https://localhost:8080/",
          "height": 158
        }
      },
      "source": [
        "! git clone https://github.com/saminehbagheri/Recommender-System.git\n",
        "%cd Recommender-System  \n",
        "%run MFinPY.ipynb"
      ],
      "execution_count": 0,
      "outputs": [
        {
          "output_type": "stream",
          "text": [
            "Cloning into 'Recommender-System'...\n",
            "remote: Enumerating objects: 48, done.\u001b[K\n",
            "remote: Counting objects: 100% (48/48), done.\u001b[K\n",
            "remote: Compressing objects: 100% (45/45), done.\u001b[K\n",
            "remote: Total 48 (delta 23), reused 0 (delta 0), pack-reused 0\u001b[K\n",
            "Unpacking objects: 100% (48/48), done.\n",
            "/content/Recommender-System\n",
            "The MF in Python is successfully loaded\n"
          ],
          "name": "stdout"
        }
      ]
    },
    {
      "cell_type": "code",
      "metadata": {
        "id": "O_E5FoFZ1zui",
        "colab_type": "code",
        "colab": {}
      },
      "source": [
        "myratings=pd.DataFrame()\n",
        "myratings['names']=['Star Trek: First Contact(1996)',\n",
        "                    'Star Trek VI: The Undiscovered Country(1991)',\n",
        "                    'Star Trek: The Wrath of Khan(1982)',\n",
        "                    \"Truth About Cats & Dogs  The(1996)\",\n",
        "                    'Independence Day(ID4)(1996)',\n",
        "                    'Remains of the Day  The(1993)']\n",
        "myratings['rating']=[5,5,5,1,1,1]\n",
        "print(myratings)\n",
        "weRecommend(myratings)"
      ],
      "execution_count": 0,
      "outputs": []
    },
    {
      "cell_type": "markdown",
      "metadata": {
        "id": "vnxThDFX1zum",
        "colab_type": "text"
      },
      "source": [
        "The results of my rating looks very interesting to me. As you can see I have rated three of the Star Trek movies with 5 and three documentary or drama movies with 1 (These ratings are only done for illustrative purposes and do not reflect my interests at all). The recommender system suggests me watching the other Star Trek movies which seems to be a reasonable choice for a Star Trek fan. Please note that this is only achieved by Matrix Factorization and our system does not have any prior knowldge about the genre of the  movies or their names."
      ]
    },
    {
      "cell_type": "markdown",
      "metadata": {
        "id": "RXLEmJVf1zun",
        "colab_type": "text"
      },
      "source": [
        "# $\\color{red}{\\text{Enter Your Own Rating Below}}$"
      ]
    },
    {
      "cell_type": "code",
      "metadata": {
        "id": "0bTJ555n1zun",
        "colab_type": "code",
        "colab": {}
      },
      "source": [
        "myratings=pd.DataFrame()\n",
        "myratings['names']=[]\n",
        "myratings['rating']=[]\n",
        "print(myratings)\n",
        "weRecommend(myratings)"
      ],
      "execution_count": 0,
      "outputs": []
    }
  ]
}